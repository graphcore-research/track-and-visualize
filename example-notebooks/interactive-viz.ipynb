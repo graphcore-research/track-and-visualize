{
 "cells": [
  {
   "cell_type": "code",
   "execution_count": null,
   "metadata": {},
   "outputs": [],
   "source": [
    "!pip install requests # for retrieiving data"
   ]
  },
  {
   "cell_type": "code",
   "execution_count": null,
   "metadata": {},
   "outputs": [],
   "source": [
    "from tandv.track.common import read_pickle, TrainingStats\n",
    "from tandv.viz import exp_hist,scalar_global_heatmap,scalar_line,interactive\n",
    "import pickle,requests"
   ]
  },
  {
   "cell_type": "markdown",
   "metadata": {},
   "source": [
    "## Loading Example Data"
   ]
  },
  {
   "cell_type": "code",
   "execution_count": null,
   "metadata": {},
   "outputs": [],
   "source": [
    "# Download sample data from s3\n",
    "lf_url = 'https://graphcore-research-public.s3.eu-west-1.amazonaws.com/tandv/sampleLogFrame.pkl'\n",
    "ts_url = 'https://graphcore-research-public.s3.eu-west-1.amazonaws.com/tandv/sampleTrainingStats.pkl'\n",
    "lf = read_pickle(lf_url)\n",
    "res = requests.get(ts_url)\n",
    "res.raise_for_status()\n",
    "tstats = pickle.loads(res.content)\n"
   ]
  },
  {
   "cell_type": "markdown",
   "metadata": {},
   "source": [
    "## Interactive Exponent Histogram\n",
    "Pass `exp_hist`function into `interactive` along with valid arguements to generate an initial plot.\n",
    "\n",
    "You can then use the various widgets to query along different dimensions (step, layer, tensor type, etc..) and subsequently generate visualizations."
   ]
  },
  {
   "cell_type": "code",
   "execution_count": null,
   "metadata": {},
   "outputs": [],
   "source": [
    "interactive(exp_hist,\n",
    "    df=lf,\n",
    "    layer='output',\n",
    "    tt = 'Activation',\n",
    "    step = 0,\n",
    "    dtype_annotation = 'float8_e4m3fn'\n",
    ")"
   ]
  },
  {
   "cell_type": "markdown",
   "metadata": {},
   "source": [
    "## Interactive Scalar Line \n",
    "Pass `scalar_line`function into `interactive` along with valid arguements to generate an initial plot.\n",
    "\n",
    "You can then use the various widgets to query along different dimensions (scalar_metric, layer, tensor type, etc..) and subsequently generate visualizations."
   ]
  },
  {
   "cell_type": "code",
   "execution_count": null,
   "metadata": {},
   "outputs": [],
   "source": [
    "interactive(\n",
    "    scalar_line,\n",
    "    df=lf,\n",
    "    layer='output',\n",
    "    tt='Gradient',\n",
    "    scalar_metric='std',\n",
    ")"
   ]
  },
  {
   "cell_type": "markdown",
   "metadata": {},
   "source": [
    "## Interactive Global Heatmap \n",
    "Pass `scalar_global_heatmap`function into `interactive` along with valid arguements to generate an initial plot.\n",
    "\n",
    "You can then use the various widgets to query along different dimensions (scalar_metric, layer, tensor type, etc..) and subsequently generate visualizations.\n",
    "\n",
    "You can also click on the heatmap patches and it will generate an `exp_hist` vizualization along those query dimensions (step, tensor_type and layer)"
   ]
  },
  {
   "cell_type": "code",
   "execution_count": null,
   "metadata": {},
   "outputs": [],
   "source": [
    "interactive(\n",
    "    scalar_global_heatmap,\n",
    "    df=lf,\n",
    "    tt='Optimiser_State.exp_avg',\n",
    "    scalar_metric='rm2',\n",
    "    inc=50,\n",
    ")"
   ]
  },
  {
   "cell_type": "markdown",
   "metadata": {},
   "source": [
    "# Cross Referencing with Training Stats"
   ]
  },
  {
   "cell_type": "markdown",
   "metadata": {},
   "source": [
    "Query exponent histograms from the loss curve"
   ]
  },
  {
   "cell_type": "code",
   "execution_count": null,
   "metadata": {},
   "outputs": [],
   "source": [
    "interactive(exp_hist,\n",
    "    train_stats=tstats,\n",
    "    df=lf,\n",
    "    layer=[n for n in lf.metadata.name.unique().tolist() if 'layers.5.feed_forward.w' in n],\n",
    "    tt = 'Activation',\n",
    "    step = 0,\n",
    "    dtype_annotation = 'float8_e4m3fn',\n",
    "    col_wrap = 3\n",
    ")"
   ]
  },
  {
   "cell_type": "markdown",
   "metadata": {},
   "source": [
    "Cross referencing loss curve(s) with scalar statistics of various tensors in the network"
   ]
  },
  {
   "cell_type": "code",
   "execution_count": null,
   "metadata": {},
   "outputs": [],
   "source": [
    "interactive(\n",
    "    scalar_line,\n",
    "    train_stats=tstats,\n",
    "    mouse_sensitivity=20000,\n",
    "    df=lf,\n",
    "    layer=[n for n in lf.metadata.name.unique().tolist() if 'layers.5.feed_forward.w' in n],\n",
    "    tt='Gradient',\n",
    "    scalar_metric=['std','rm2'],\n",
    "    col_wrap = 3\n",
    ")"
   ]
  }
 ],
 "metadata": {
  "kernelspec": {
   "display_name": ".venv",
   "language": "python",
   "name": "python3"
  },
  "language_info": {
   "codemirror_mode": {
    "name": "ipython",
    "version": 3
   },
   "file_extension": ".py",
   "mimetype": "text/x-python",
   "name": "python",
   "nbconvert_exporter": "python",
   "pygments_lexer": "ipython3",
   "version": "3.12.4"
  }
 },
 "nbformat": 4,
 "nbformat_minor": 2
}
