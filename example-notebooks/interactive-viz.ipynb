{
 "cells": [
  {
   "cell_type": "code",
   "execution_count": 1,
   "metadata": {},
   "outputs": [],
   "source": [
    "\n",
    "from tandv.track.common import read_pickle, TrainingStats\n",
    "from tandv.viz import exp_hist,scalar_global_heatmap,scalar_line,interactive\n",
    "import pickle"
   ]
  },
  {
   "cell_type": "markdown",
   "metadata": {},
   "source": [
    "## Loading Example Data"
   ]
  },
  {
   "cell_type": "code",
   "execution_count": 3,
   "metadata": {},
   "outputs": [],
   "source": [
    "lf_dir = '/home/ubuntu/numerics-vis/local-explorations/profiling-logging-overhead/numerics-llama.c/tandv/plain-pocket/final_logframe.pkl'\n",
    "ts_dir = '/home/ubuntu/numerics-vis/local-explorations/profiling-logging-overhead/numerics-llama.c/training_stats.pkl'\n",
    "with open('/home/ubuntu/numerics-vis/local-explorations/profiling-logging-overhead/numerics-llama.c/training_stats.pkl', 'rb') as f:\n",
    "    dct = pickle.load(f)\n",
    "# Need to provide a url to some example data\n",
    "lf = read_pickle(lf_dir)\n",
    "tstats = TrainingStats(\n",
    "    steps=dct['step'],\n",
    "    train_loss=dct['train_loss'],\n",
    "    val_loss=dct['val_loss']\n",
    ")\n",
    "\n"
   ]
  },
  {
   "cell_type": "markdown",
   "metadata": {},
   "source": [
    "## Interactive Exponent Histogram\n",
    "Pass `exp_hist`function into `interactive` along with valid arguements to generate an initial plot.\n",
    "\n",
    "You can then use the various widgets to query along different dimensions (step, layer, tensor type, etc..) and subsequently generate visualizations."
   ]
  },
  {
   "cell_type": "code",
   "execution_count": 2,
   "metadata": {},
   "outputs": [
    {
     "ename": "NameError",
     "evalue": "name 'lf' is not defined",
     "output_type": "error",
     "traceback": [
      "\u001b[0;31m---------------------------------------------------------------------------\u001b[0m",
      "\u001b[0;31mNameError\u001b[0m                                 Traceback (most recent call last)",
      "Cell \u001b[0;32mIn[2], line 2\u001b[0m\n\u001b[1;32m      1\u001b[0m interactive(exp_hist,\n\u001b[0;32m----> 2\u001b[0m     df\u001b[38;5;241m=\u001b[39m\u001b[43mlf\u001b[49m,\n\u001b[1;32m      3\u001b[0m     layer\u001b[38;5;241m=\u001b[39m\u001b[38;5;124m'\u001b[39m\u001b[38;5;124moutput\u001b[39m\u001b[38;5;124m'\u001b[39m,\n\u001b[1;32m      4\u001b[0m     tt \u001b[38;5;241m=\u001b[39m \u001b[38;5;124m'\u001b[39m\u001b[38;5;124mActivation\u001b[39m\u001b[38;5;124m'\u001b[39m,\n\u001b[1;32m      5\u001b[0m     step \u001b[38;5;241m=\u001b[39m \u001b[38;5;241m0\u001b[39m,\n\u001b[1;32m      6\u001b[0m     dtype_annotation \u001b[38;5;241m=\u001b[39m \u001b[38;5;124m'\u001b[39m\u001b[38;5;124mfloat8_e4m3fn\u001b[39m\u001b[38;5;124m'\u001b[39m\n\u001b[1;32m      7\u001b[0m )\n",
      "\u001b[0;31mNameError\u001b[0m: name 'lf' is not defined"
     ]
    }
   ],
   "source": [
    "interactive(exp_hist,\n",
    "    df=lf,\n",
    "    layer='output',\n",
    "    tt = 'Activation',\n",
    "    step = 0,\n",
    "    dtype_annotation = 'float8_e4m3fn'\n",
    ")"
   ]
  },
  {
   "cell_type": "markdown",
   "metadata": {},
   "source": [
    "## Interactive Scalar Line \n",
    "Pass `scalar_line`function into `interactive` along with valid arguements to generate an initial plot.\n",
    "\n",
    "You can then use the various widgets to query along different dimensions (scalar_metric, layer, tensor type, etc..) and subsequently generate visualizations."
   ]
  },
  {
   "cell_type": "code",
   "execution_count": 6,
   "metadata": {},
   "outputs": [
    {
     "data": {
      "application/vnd.jupyter.widget-view+json": {
       "model_id": "9d37d9a5cbce45a2912837289a76600b",
       "version_major": 2,
       "version_minor": 0
      },
      "text/plain": [
       "Output(layout=Layout(width='100%'), outputs=({'output_type': 'display_data', 'data': {'text/plain': \"HBox(chil…"
      ]
     },
     "metadata": {},
     "output_type": "display_data"
    },
    {
     "data": {
      "application/vnd.jupyter.widget-view+json": {
       "model_id": "8466ec1c5fab462783f3f4a5e7f8301f",
       "version_major": 2,
       "version_minor": 0
      },
      "text/plain": [
       "Output(layout=Layout(overflow='scroll hidden', width='1500px'), outputs=({'output_type': 'display_data', 'data…"
      ]
     },
     "metadata": {},
     "output_type": "display_data"
    }
   ],
   "source": [
    "interactive(\n",
    "    scalar_line,\n",
    "    df=lf,\n",
    "    layer='output',\n",
    "    tt='Gradient',\n",
    "    scalar_metric='std',\n",
    ")"
   ]
  },
  {
   "cell_type": "markdown",
   "metadata": {},
   "source": [
    "## Interactive Global Heatmap \n",
    "Pass `scalar_global_heatmap`function into `interactive` along with valid arguements to generate an initial plot.\n",
    "\n",
    "You can then use the various widgets to query along different dimensions (scalar_metric, layer, tensor type, etc..) and subsequently generate visualizations.\n",
    "\n",
    "You can also click on the heatmap patches and it will generate an `exp_hist` vizualization along those query dimensions (step, tensor_type and layer)"
   ]
  },
  {
   "cell_type": "code",
   "execution_count": 7,
   "metadata": {},
   "outputs": [
    {
     "data": {
      "application/vnd.jupyter.widget-view+json": {
       "model_id": "eb51bc4c84e9453982e1600d39756b10",
       "version_major": 2,
       "version_minor": 0
      },
      "text/plain": [
       "Output(layout=Layout(width='100%'), outputs=({'output_type': 'display_data', 'data': {'text/plain': \"HBox(chil…"
      ]
     },
     "metadata": {},
     "output_type": "display_data"
    },
    {
     "data": {
      "application/vnd.jupyter.widget-view+json": {
       "model_id": "de48ef26946f4ca082dbcbb87d2f6649",
       "version_major": 2,
       "version_minor": 0
      },
      "text/plain": [
       "Output(layout=Layout(overflow='scroll hidden', width='1500px'), outputs=({'output_type': 'display_data', 'data…"
      ]
     },
     "metadata": {},
     "output_type": "display_data"
    }
   ],
   "source": [
    "interactive(\n",
    "    scalar_global_heatmap,\n",
    "    df=lf,\n",
    "    tt='Activation',\n",
    "    scalar_metric='std',\n",
    "    inc=5,\n",
    ")"
   ]
  },
  {
   "cell_type": "markdown",
   "metadata": {},
   "source": [
    "# Cross Referencing with Training Stats"
   ]
  },
  {
   "cell_type": "markdown",
   "metadata": {},
   "source": [
    "Query exponent histograms from the loss curve"
   ]
  },
  {
   "cell_type": "code",
   "execution_count": 4,
   "metadata": {},
   "outputs": [],
   "source": [
    "interactive(exp_hist,\n",
    "    train_stats=tstats,\n",
    "    df=lf,\n",
    "    layer=[n for n in lf.metadata.name.unique().tolist() if 'layers.5.feed_forward.w' in n],\n",
    "    tt = 'Activation',\n",
    "    step = 0,\n",
    "    dtype_annotation = 'float8_e4m3fn',\n",
    "    col_wrap = 3\n",
    ")"
   ]
  },
  {
   "cell_type": "markdown",
   "metadata": {},
   "source": [
    "Cross referencing loss curve(s) with scalar statistics of various tensors in the network"
   ]
  },
  {
   "cell_type": "code",
   "execution_count": 4,
   "metadata": {},
   "outputs": [],
   "source": [
    "interactive(\n",
    "    scalar_line,\n",
    "    train_stats=tstats,\n",
    "    df=lf,\n",
    "    layer=[n for n in lf.metadata.name.unique().tolist() if 'layers.3.attention.w' in n],\n",
    "    tt='Gradient',\n",
    "    scalar_metric=['std','rm2'],\n",
    "    col_wrap = 3\n",
    ")"
   ]
  }
 ],
 "metadata": {
  "kernelspec": {
   "display_name": ".venv",
   "language": "python",
   "name": "python3"
  },
  "language_info": {
   "codemirror_mode": {
    "name": "ipython",
    "version": 3
   },
   "file_extension": ".py",
   "mimetype": "text/x-python",
   "name": "python",
   "nbconvert_exporter": "python",
   "pygments_lexer": "ipython3",
   "version": "3.10.14"
  }
 },
 "nbformat": 4,
 "nbformat_minor": 2
}
