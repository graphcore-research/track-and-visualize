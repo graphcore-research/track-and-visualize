{
 "cells": [
  {
   "cell_type": "code",
   "execution_count": null,
   "metadata": {},
   "outputs": [],
   "source": [
    "from tandv.viz import exp_hist, scalar_line, scalar_global_heatmap\n",
    "from tandv.track.common import read_pickle"
   ]
  }
 ],
 "metadata": {
  "language_info": {
   "name": "python"
  }
 },
 "nbformat": 4,
 "nbformat_minor": 2
}
