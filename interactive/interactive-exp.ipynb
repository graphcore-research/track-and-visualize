{
 "cells": [
  {
   "cell_type": "code",
   "execution_count": 1,
   "metadata": {},
   "outputs": [
    {
     "name": "stdout",
     "output_type": "stream",
     "text": [
      "Processing /Users/colmb/Library/CloudStorage/OneDrive-Graphcore/code/debugging-tool\n",
      "  Preparing metadata (setup.py) ... \u001b[?25ldone\n",
      "\u001b[?25hRequirement already satisfied: matplotlib in /Users/colmb/Library/CloudStorage/OneDrive-Graphcore/code/debugging-tool/.venv/lib/python3.12/site-packages (from nvis==0.1) (3.9.0)\n",
      "Requirement already satisfied: numpy<2 in /Users/colmb/Library/CloudStorage/OneDrive-Graphcore/code/debugging-tool/.venv/lib/python3.12/site-packages (from nvis==0.1) (1.26.4)\n",
      "Requirement already satisfied: pandas in /Users/colmb/Library/CloudStorage/OneDrive-Graphcore/code/debugging-tool/.venv/lib/python3.12/site-packages (from nvis==0.1) (2.2.2)\n",
      "Requirement already satisfied: seaborn==0.13.2 in /Users/colmb/Library/CloudStorage/OneDrive-Graphcore/code/debugging-tool/.venv/lib/python3.12/site-packages (from nvis==0.1) (0.13.2)\n",
      "Requirement already satisfied: pytest in /Users/colmb/Library/CloudStorage/OneDrive-Graphcore/code/debugging-tool/.venv/lib/python3.12/site-packages (from nvis==0.1) (8.2.2)\n",
      "Requirement already satisfied: ml_dtypes in /Users/colmb/Library/CloudStorage/OneDrive-Graphcore/code/debugging-tool/.venv/lib/python3.12/site-packages (from nvis==0.1) (0.4.0)\n",
      "Requirement already satisfied: ipympl==0.9.4 in /Users/colmb/Library/CloudStorage/OneDrive-Graphcore/code/debugging-tool/.venv/lib/python3.12/site-packages (from nvis==0.1) (0.9.4)\n",
      "Requirement already satisfied: ipywidgets==8.1.3 in /Users/colmb/Library/CloudStorage/OneDrive-Graphcore/code/debugging-tool/.venv/lib/python3.12/site-packages (from nvis==0.1) (8.1.3)\n",
      "Requirement already satisfied: fonttools==4.53.0 in /Users/colmb/Library/CloudStorage/OneDrive-Graphcore/code/debugging-tool/.venv/lib/python3.12/site-packages (from nvis==0.1) (4.53.0)\n",
      "Requirement already satisfied: pure-eval==0.2.2 in /Users/colmb/Library/CloudStorage/OneDrive-Graphcore/code/debugging-tool/.venv/lib/python3.12/site-packages (from nvis==0.1) (0.2.2)\n",
      "Requirement already satisfied: sympy==1.12.1 in /Users/colmb/Library/CloudStorage/OneDrive-Graphcore/code/debugging-tool/.venv/lib/python3.12/site-packages (from nvis==0.1) (1.12.1)\n",
      "Requirement already satisfied: ipython-genutils in /Users/colmb/Library/CloudStorage/OneDrive-Graphcore/code/debugging-tool/.venv/lib/python3.12/site-packages (from ipympl==0.9.4->nvis==0.1) (0.2.0)\n",
      "Requirement already satisfied: ipython<9 in /Users/colmb/Library/CloudStorage/OneDrive-Graphcore/code/debugging-tool/.venv/lib/python3.12/site-packages (from ipympl==0.9.4->nvis==0.1) (8.26.0)\n",
      "Requirement already satisfied: pillow in /Users/colmb/Library/CloudStorage/OneDrive-Graphcore/code/debugging-tool/.venv/lib/python3.12/site-packages (from ipympl==0.9.4->nvis==0.1) (10.4.0)\n",
      "Requirement already satisfied: traitlets<6 in /Users/colmb/Library/CloudStorage/OneDrive-Graphcore/code/debugging-tool/.venv/lib/python3.12/site-packages (from ipympl==0.9.4->nvis==0.1) (5.14.3)\n",
      "Requirement already satisfied: comm>=0.1.3 in /Users/colmb/Library/CloudStorage/OneDrive-Graphcore/code/debugging-tool/.venv/lib/python3.12/site-packages (from ipywidgets==8.1.3->nvis==0.1) (0.2.2)\n",
      "Requirement already satisfied: widgetsnbextension~=4.0.11 in /Users/colmb/Library/CloudStorage/OneDrive-Graphcore/code/debugging-tool/.venv/lib/python3.12/site-packages (from ipywidgets==8.1.3->nvis==0.1) (4.0.11)\n",
      "Requirement already satisfied: jupyterlab-widgets~=3.0.11 in /Users/colmb/Library/CloudStorage/OneDrive-Graphcore/code/debugging-tool/.venv/lib/python3.12/site-packages (from ipywidgets==8.1.3->nvis==0.1) (3.0.11)\n",
      "Requirement already satisfied: contourpy>=1.0.1 in /Users/colmb/Library/CloudStorage/OneDrive-Graphcore/code/debugging-tool/.venv/lib/python3.12/site-packages (from matplotlib->nvis==0.1) (1.2.1)\n",
      "Requirement already satisfied: cycler>=0.10 in /Users/colmb/Library/CloudStorage/OneDrive-Graphcore/code/debugging-tool/.venv/lib/python3.12/site-packages (from matplotlib->nvis==0.1) (0.12.1)\n",
      "Requirement already satisfied: kiwisolver>=1.3.1 in /Users/colmb/Library/CloudStorage/OneDrive-Graphcore/code/debugging-tool/.venv/lib/python3.12/site-packages (from matplotlib->nvis==0.1) (1.4.5)\n",
      "Requirement already satisfied: packaging>=20.0 in /Users/colmb/Library/CloudStorage/OneDrive-Graphcore/code/debugging-tool/.venv/lib/python3.12/site-packages (from matplotlib->nvis==0.1) (24.1)\n",
      "Requirement already satisfied: pyparsing>=2.3.1 in /Users/colmb/Library/CloudStorage/OneDrive-Graphcore/code/debugging-tool/.venv/lib/python3.12/site-packages (from matplotlib->nvis==0.1) (3.1.2)\n",
      "Requirement already satisfied: python-dateutil>=2.7 in /Users/colmb/Library/CloudStorage/OneDrive-Graphcore/code/debugging-tool/.venv/lib/python3.12/site-packages (from matplotlib->nvis==0.1) (2.9.0.post0)\n",
      "Requirement already satisfied: iniconfig in /Users/colmb/Library/CloudStorage/OneDrive-Graphcore/code/debugging-tool/.venv/lib/python3.12/site-packages (from pytest->nvis==0.1) (2.0.0)\n",
      "Requirement already satisfied: pluggy<2.0,>=1.5 in /Users/colmb/Library/CloudStorage/OneDrive-Graphcore/code/debugging-tool/.venv/lib/python3.12/site-packages (from pytest->nvis==0.1) (1.5.0)\n",
      "Requirement already satisfied: mpmath<1.4.0,>=1.1.0 in /Users/colmb/Library/CloudStorage/OneDrive-Graphcore/code/debugging-tool/.venv/lib/python3.12/site-packages (from sympy==1.12.1->nvis==0.1) (1.3.0)\n",
      "Requirement already satisfied: pytz>=2020.1 in /Users/colmb/Library/CloudStorage/OneDrive-Graphcore/code/debugging-tool/.venv/lib/python3.12/site-packages (from pandas->nvis==0.1) (2024.1)\n",
      "Requirement already satisfied: tzdata>=2022.7 in /Users/colmb/Library/CloudStorage/OneDrive-Graphcore/code/debugging-tool/.venv/lib/python3.12/site-packages (from pandas->nvis==0.1) (2024.1)\n",
      "Requirement already satisfied: decorator in /Users/colmb/Library/CloudStorage/OneDrive-Graphcore/code/debugging-tool/.venv/lib/python3.12/site-packages (from ipython<9->ipympl==0.9.4->nvis==0.1) (5.1.1)\n",
      "Requirement already satisfied: jedi>=0.16 in /Users/colmb/Library/CloudStorage/OneDrive-Graphcore/code/debugging-tool/.venv/lib/python3.12/site-packages (from ipython<9->ipympl==0.9.4->nvis==0.1) (0.19.1)\n",
      "Requirement already satisfied: matplotlib-inline in /Users/colmb/Library/CloudStorage/OneDrive-Graphcore/code/debugging-tool/.venv/lib/python3.12/site-packages (from ipython<9->ipympl==0.9.4->nvis==0.1) (0.1.7)\n",
      "Requirement already satisfied: prompt-toolkit<3.1.0,>=3.0.41 in /Users/colmb/Library/CloudStorage/OneDrive-Graphcore/code/debugging-tool/.venv/lib/python3.12/site-packages (from ipython<9->ipympl==0.9.4->nvis==0.1) (3.0.47)\n",
      "Requirement already satisfied: pygments>=2.4.0 in /Users/colmb/Library/CloudStorage/OneDrive-Graphcore/code/debugging-tool/.venv/lib/python3.12/site-packages (from ipython<9->ipympl==0.9.4->nvis==0.1) (2.18.0)\n",
      "Requirement already satisfied: stack-data in /Users/colmb/Library/CloudStorage/OneDrive-Graphcore/code/debugging-tool/.venv/lib/python3.12/site-packages (from ipython<9->ipympl==0.9.4->nvis==0.1) (0.6.3)\n",
      "Requirement already satisfied: pexpect>4.3 in /Users/colmb/Library/CloudStorage/OneDrive-Graphcore/code/debugging-tool/.venv/lib/python3.12/site-packages (from ipython<9->ipympl==0.9.4->nvis==0.1) (4.9.0)\n",
      "Requirement already satisfied: six>=1.5 in /Users/colmb/Library/CloudStorage/OneDrive-Graphcore/code/debugging-tool/.venv/lib/python3.12/site-packages (from python-dateutil>=2.7->matplotlib->nvis==0.1) (1.16.0)\n",
      "Requirement already satisfied: parso<0.9.0,>=0.8.3 in /Users/colmb/Library/CloudStorage/OneDrive-Graphcore/code/debugging-tool/.venv/lib/python3.12/site-packages (from jedi>=0.16->ipython<9->ipympl==0.9.4->nvis==0.1) (0.8.4)\n",
      "Requirement already satisfied: ptyprocess>=0.5 in /Users/colmb/Library/CloudStorage/OneDrive-Graphcore/code/debugging-tool/.venv/lib/python3.12/site-packages (from pexpect>4.3->ipython<9->ipympl==0.9.4->nvis==0.1) (0.7.0)\n",
      "Requirement already satisfied: wcwidth in /Users/colmb/Library/CloudStorage/OneDrive-Graphcore/code/debugging-tool/.venv/lib/python3.12/site-packages (from prompt-toolkit<3.1.0,>=3.0.41->ipython<9->ipympl==0.9.4->nvis==0.1) (0.2.13)\n",
      "Requirement already satisfied: executing>=1.2.0 in /Users/colmb/Library/CloudStorage/OneDrive-Graphcore/code/debugging-tool/.venv/lib/python3.12/site-packages (from stack-data->ipython<9->ipympl==0.9.4->nvis==0.1) (2.0.1)\n",
      "Requirement already satisfied: asttokens>=2.1.0 in /Users/colmb/Library/CloudStorage/OneDrive-Graphcore/code/debugging-tool/.venv/lib/python3.12/site-packages (from stack-data->ipython<9->ipympl==0.9.4->nvis==0.1) (2.4.1)\n",
      "Building wheels for collected packages: nvis\n",
      "  Building wheel for nvis (setup.py) ... \u001b[?25ldone\n",
      "\u001b[?25h  Created wheel for nvis: filename=nvis-0.1-py3-none-any.whl size=35894 sha256=a6eb87d9260482258b83aba95e5cd2c11cf5082a44cf5d50618b22f2d12fead0\n",
      "  Stored in directory: /Users/colmb/Library/Caches/pip/wheels/a5/df/dc/5259f835417f3a97f1653a062131bd69e67749ca4095ea03fc\n",
      "Successfully built nvis\n",
      "Installing collected packages: nvis\n",
      "  Attempting uninstall: nvis\n",
      "    Found existing installation: nvis 0.1\n",
      "    Uninstalling nvis-0.1:\n",
      "      Successfully uninstalled nvis-0.1\n",
      "Successfully installed nvis-0.1\n",
      "\n",
      "\u001b[1m[\u001b[0m\u001b[34;49mnotice\u001b[0m\u001b[1;39;49m]\u001b[0m\u001b[39;49m A new release of pip is available: \u001b[0m\u001b[31;49m24.0\u001b[0m\u001b[39;49m -> \u001b[0m\u001b[32;49m24.1.2\u001b[0m\n",
      "\u001b[1m[\u001b[0m\u001b[34;49mnotice\u001b[0m\u001b[1;39;49m]\u001b[0m\u001b[39;49m To update, run: \u001b[0m\u001b[32;49mpip install --upgrade pip\u001b[0m\n"
     ]
    }
   ],
   "source": [
    "!pip install '../'"
   ]
  },
  {
   "cell_type": "code",
   "execution_count": 2,
   "metadata": {},
   "outputs": [],
   "source": [
    "\n",
    "\n",
    "# import pandas as pd\n",
    "from nvis import vis\n",
    "from nvis.log.common import read_pickle, TensorType\n",
    "import re\n",
    "import pandas as pd\n",
    "df = read_pickle('../test-data/example-logs.pkl')\n",
    "\n",
    "# vis.interactive(\n",
    "#     f= vis.scalar_line,\n",
    "#     width=1000,\n",
    "#     df=df,\n",
    "#     tt=TensorType.Activation,\n",
    "#     layer='output',\n",
    "#     col_wrap = 3,\n",
    "#     scalar_metric=['rm2','min_abs']\n",
    "# )\n",
    "\n"
   ]
  },
  {
   "cell_type": "code",
   "execution_count": 3,
   "metadata": {},
   "outputs": [
    {
     "data": {
      "application/vnd.jupyter.widget-view+json": {
       "model_id": "fadcbaa8738049b4b63ee4cf5fc77c1c",
       "version_major": 2,
       "version_minor": 0
      },
      "text/plain": [
       "Output(layout=Layout(width='100%'), outputs=({'output_type': 'display_data', 'data': {'text/plain': \"HBox(chil…"
      ]
     },
     "metadata": {},
     "output_type": "display_data"
    },
    {
     "data": {
      "application/vnd.jupyter.widget-view+json": {
       "model_id": "a50ab44b07984f5abf94de905da0ba8c",
       "version_major": 2,
       "version_minor": 0
      },
      "text/plain": [
       "Output(layout=Layout(overflow='scroll hidden', width='1500px'), outputs=({'output_type': 'display_data', 'data…"
      ]
     },
     "metadata": {},
     "output_type": "display_data"
    }
   ],
   "source": [
    "vis.interactive(\n",
    "    f= vis.scalar_line,\n",
    "    df=df,\n",
    "    tt='Activation',\n",
    "    layer='output',\n",
    "    col_wrap = 3,\n",
    "    scalar_metric=['rm2','min_abs']\n",
    ")"
   ]
  },
  {
   "cell_type": "code",
   "execution_count": 5,
   "metadata": {},
   "outputs": [
    {
     "data": {
      "application/vnd.jupyter.widget-view+json": {
       "model_id": "5aa98af9d9234a82a94d41d658bcc4df",
       "version_major": 2,
       "version_minor": 0
      },
      "text/plain": [
       "Output(layout=Layout(width='100%'), outputs=({'output_type': 'display_data', 'data': {'text/plain': \"HBox(chil…"
      ]
     },
     "metadata": {},
     "output_type": "display_data"
    },
    {
     "data": {
      "application/vnd.jupyter.widget-view+json": {
       "model_id": "45ef75cd17b044b0950788683552da5c",
       "version_major": 2,
       "version_minor": 0
      },
      "text/plain": [
       "Output(layout=Layout(overflow='scroll hidden', width='1400px'), outputs=({'output_type': 'display_data', 'data…"
      ]
     },
     "metadata": {},
     "output_type": "display_data"
    }
   ],
   "source": [
    "vis.interactive(\n",
    "    width=1400,\n",
    "    f= vis.scalar_global_heatmap,\n",
    "    df=df,\n",
    "    tt='Activation',\n",
    "    scalar_metric='rm2',\n",
    "    inc=50\n",
    ")"
   ]
  },
  {
   "cell_type": "code",
   "execution_count": 4,
   "metadata": {},
   "outputs": [
    {
     "data": {
      "application/vnd.jupyter.widget-view+json": {
       "model_id": "8138ea406562424a898945bac1e4d490",
       "version_major": 2,
       "version_minor": 0
      },
      "text/plain": [
       "Output(layout=Layout(width='100%'), outputs=({'output_type': 'display_data', 'data': {'text/plain': \"HBox(chil…"
      ]
     },
     "metadata": {},
     "output_type": "display_data"
    },
    {
     "data": {
      "application/vnd.jupyter.widget-view+json": {
       "model_id": "e86a5bf8fa574546850b95bcae7f0720",
       "version_major": 2,
       "version_minor": 0
      },
      "text/plain": [
       "Output(layout=Layout(overflow='scroll hidden', width='1500px'), outputs=({'output_type': 'display_data', 'data…"
      ]
     },
     "metadata": {},
     "output_type": "display_data"
    },
    {
     "name": "stdout",
     "output_type": "stream",
     "text": [
      "kind <class 'str'>\n",
      "tt <class 'str'>\n",
      "step <class 'int'>\n",
      "layer <class 'list'>\n"
     ]
    }
   ],
   "source": [
    "vis.interactive(\n",
    "    f=vis.exp_hist,\n",
    "    df=df,\n",
    "    layer='output',\n",
    "    tt='Activation',\n",
    "    step=100,\n",
    "    col_wrap =3\n",
    "\n",
    ")"
   ]
  },
  {
   "cell_type": "code",
   "execution_count": null,
   "metadata": {},
   "outputs": [],
   "source": []
  }
 ],
 "metadata": {
  "kernelspec": {
   "display_name": ".venv",
   "language": "python",
   "name": "python3"
  },
  "language_info": {
   "codemirror_mode": {
    "name": "ipython",
    "version": 3
   },
   "file_extension": ".py",
   "mimetype": "text/x-python",
   "name": "python",
   "nbconvert_exporter": "python",
   "pygments_lexer": "ipython3",
   "version": "3.12.4"
  }
 },
 "nbformat": 4,
 "nbformat_minor": 2
}
