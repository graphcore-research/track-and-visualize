{
 "cells": [
  {
   "cell_type": "code",
   "execution_count": 2,
   "metadata": {},
   "outputs": [
    {
     "name": "stdout",
     "output_type": "stream",
     "text": [
      "Processing /Users/colmb/Library/CloudStorage/OneDrive-Graphcore/code/debugging-tool\n",
      "  Installing build dependencies ... \u001b[?25ldone\n",
      "\u001b[?25h  Getting requirements to build wheel ... \u001b[?25ldone\n",
      "\u001b[?25h  Preparing metadata (pyproject.toml) ... \u001b[?25ldone\n",
      "\u001b[?25hRequirement already satisfied: torch in /Users/colmb/Library/CloudStorage/OneDrive-Graphcore/code/debugging-tool/.venv/lib/python3.12/site-packages (from nvis==0.1) (2.2.2)\n",
      "Requirement already satisfied: matplotlib in /Users/colmb/Library/CloudStorage/OneDrive-Graphcore/code/debugging-tool/.venv/lib/python3.12/site-packages (from nvis==0.1) (3.9.0)\n",
      "Requirement already satisfied: numpy<2 in /Users/colmb/Library/CloudStorage/OneDrive-Graphcore/code/debugging-tool/.venv/lib/python3.12/site-packages (from nvis==0.1) (1.26.4)\n",
      "Requirement already satisfied: pandas in /Users/colmb/Library/CloudStorage/OneDrive-Graphcore/code/debugging-tool/.venv/lib/python3.12/site-packages (from nvis==0.1) (2.2.2)\n",
      "Requirement already satisfied: seaborn in /Users/colmb/Library/CloudStorage/OneDrive-Graphcore/code/debugging-tool/.venv/lib/python3.12/site-packages (from nvis==0.1) (0.13.2)\n",
      "Requirement already satisfied: pytest in /Users/colmb/Library/CloudStorage/OneDrive-Graphcore/code/debugging-tool/.venv/lib/python3.12/site-packages (from nvis==0.1) (8.2.2)\n",
      "Requirement already satisfied: ml-dtypes in /Users/colmb/Library/CloudStorage/OneDrive-Graphcore/code/debugging-tool/.venv/lib/python3.12/site-packages (from nvis==0.1) (0.4.0)\n",
      "Requirement already satisfied: ipympl in /Users/colmb/Library/CloudStorage/OneDrive-Graphcore/code/debugging-tool/.venv/lib/python3.12/site-packages (from nvis==0.1) (0.9.4)\n",
      "Requirement already satisfied: ipywidgets in /Users/colmb/Library/CloudStorage/OneDrive-Graphcore/code/debugging-tool/.venv/lib/python3.12/site-packages (from nvis==0.1) (8.1.3)\n",
      "Requirement already satisfied: ipython-genutils in /Users/colmb/Library/CloudStorage/OneDrive-Graphcore/code/debugging-tool/.venv/lib/python3.12/site-packages (from ipympl->nvis==0.1) (0.2.0)\n",
      "Requirement already satisfied: ipython<9 in /Users/colmb/Library/CloudStorage/OneDrive-Graphcore/code/debugging-tool/.venv/lib/python3.12/site-packages (from ipympl->nvis==0.1) (8.26.0)\n",
      "Requirement already satisfied: pillow in /Users/colmb/Library/CloudStorage/OneDrive-Graphcore/code/debugging-tool/.venv/lib/python3.12/site-packages (from ipympl->nvis==0.1) (10.4.0)\n",
      "Requirement already satisfied: traitlets<6 in /Users/colmb/Library/CloudStorage/OneDrive-Graphcore/code/debugging-tool/.venv/lib/python3.12/site-packages (from ipympl->nvis==0.1) (5.14.3)\n",
      "Requirement already satisfied: comm>=0.1.3 in /Users/colmb/Library/CloudStorage/OneDrive-Graphcore/code/debugging-tool/.venv/lib/python3.12/site-packages (from ipywidgets->nvis==0.1) (0.2.2)\n",
      "Requirement already satisfied: widgetsnbextension~=4.0.11 in /Users/colmb/Library/CloudStorage/OneDrive-Graphcore/code/debugging-tool/.venv/lib/python3.12/site-packages (from ipywidgets->nvis==0.1) (4.0.11)\n",
      "Requirement already satisfied: jupyterlab-widgets~=3.0.11 in /Users/colmb/Library/CloudStorage/OneDrive-Graphcore/code/debugging-tool/.venv/lib/python3.12/site-packages (from ipywidgets->nvis==0.1) (3.0.11)\n",
      "Requirement already satisfied: contourpy>=1.0.1 in /Users/colmb/Library/CloudStorage/OneDrive-Graphcore/code/debugging-tool/.venv/lib/python3.12/site-packages (from matplotlib->nvis==0.1) (1.2.1)\n",
      "Requirement already satisfied: cycler>=0.10 in /Users/colmb/Library/CloudStorage/OneDrive-Graphcore/code/debugging-tool/.venv/lib/python3.12/site-packages (from matplotlib->nvis==0.1) (0.12.1)\n",
      "Requirement already satisfied: fonttools>=4.22.0 in /Users/colmb/Library/CloudStorage/OneDrive-Graphcore/code/debugging-tool/.venv/lib/python3.12/site-packages (from matplotlib->nvis==0.1) (4.53.0)\n",
      "Requirement already satisfied: kiwisolver>=1.3.1 in /Users/colmb/Library/CloudStorage/OneDrive-Graphcore/code/debugging-tool/.venv/lib/python3.12/site-packages (from matplotlib->nvis==0.1) (1.4.5)\n",
      "Requirement already satisfied: packaging>=20.0 in /Users/colmb/Library/CloudStorage/OneDrive-Graphcore/code/debugging-tool/.venv/lib/python3.12/site-packages (from matplotlib->nvis==0.1) (24.1)\n",
      "Requirement already satisfied: pyparsing>=2.3.1 in /Users/colmb/Library/CloudStorage/OneDrive-Graphcore/code/debugging-tool/.venv/lib/python3.12/site-packages (from matplotlib->nvis==0.1) (3.1.2)\n",
      "Requirement already satisfied: python-dateutil>=2.7 in /Users/colmb/Library/CloudStorage/OneDrive-Graphcore/code/debugging-tool/.venv/lib/python3.12/site-packages (from matplotlib->nvis==0.1) (2.9.0.post0)\n",
      "Requirement already satisfied: pytz>=2020.1 in /Users/colmb/Library/CloudStorage/OneDrive-Graphcore/code/debugging-tool/.venv/lib/python3.12/site-packages (from pandas->nvis==0.1) (2024.1)\n",
      "Requirement already satisfied: tzdata>=2022.7 in /Users/colmb/Library/CloudStorage/OneDrive-Graphcore/code/debugging-tool/.venv/lib/python3.12/site-packages (from pandas->nvis==0.1) (2024.1)\n",
      "Requirement already satisfied: iniconfig in /Users/colmb/Library/CloudStorage/OneDrive-Graphcore/code/debugging-tool/.venv/lib/python3.12/site-packages (from pytest->nvis==0.1) (2.0.0)\n",
      "Requirement already satisfied: pluggy<2.0,>=1.5 in /Users/colmb/Library/CloudStorage/OneDrive-Graphcore/code/debugging-tool/.venv/lib/python3.12/site-packages (from pytest->nvis==0.1) (1.5.0)\n",
      "Requirement already satisfied: filelock in /Users/colmb/Library/CloudStorage/OneDrive-Graphcore/code/debugging-tool/.venv/lib/python3.12/site-packages (from torch->nvis==0.1) (3.15.4)\n",
      "Requirement already satisfied: typing-extensions>=4.8.0 in /Users/colmb/Library/CloudStorage/OneDrive-Graphcore/code/debugging-tool/.venv/lib/python3.12/site-packages (from torch->nvis==0.1) (4.12.2)\n",
      "Requirement already satisfied: sympy in /Users/colmb/Library/CloudStorage/OneDrive-Graphcore/code/debugging-tool/.venv/lib/python3.12/site-packages (from torch->nvis==0.1) (1.12.1)\n",
      "Requirement already satisfied: networkx in /Users/colmb/Library/CloudStorage/OneDrive-Graphcore/code/debugging-tool/.venv/lib/python3.12/site-packages (from torch->nvis==0.1) (3.3)\n",
      "Requirement already satisfied: jinja2 in /Users/colmb/Library/CloudStorage/OneDrive-Graphcore/code/debugging-tool/.venv/lib/python3.12/site-packages (from torch->nvis==0.1) (3.1.4)\n",
      "Requirement already satisfied: fsspec in /Users/colmb/Library/CloudStorage/OneDrive-Graphcore/code/debugging-tool/.venv/lib/python3.12/site-packages (from torch->nvis==0.1) (2024.6.1)\n",
      "Requirement already satisfied: decorator in /Users/colmb/Library/CloudStorage/OneDrive-Graphcore/code/debugging-tool/.venv/lib/python3.12/site-packages (from ipython<9->ipympl->nvis==0.1) (5.1.1)\n",
      "Requirement already satisfied: jedi>=0.16 in /Users/colmb/Library/CloudStorage/OneDrive-Graphcore/code/debugging-tool/.venv/lib/python3.12/site-packages (from ipython<9->ipympl->nvis==0.1) (0.19.1)\n",
      "Requirement already satisfied: matplotlib-inline in /Users/colmb/Library/CloudStorage/OneDrive-Graphcore/code/debugging-tool/.venv/lib/python3.12/site-packages (from ipython<9->ipympl->nvis==0.1) (0.1.7)\n",
      "Requirement already satisfied: prompt-toolkit<3.1.0,>=3.0.41 in /Users/colmb/Library/CloudStorage/OneDrive-Graphcore/code/debugging-tool/.venv/lib/python3.12/site-packages (from ipython<9->ipympl->nvis==0.1) (3.0.47)\n",
      "Requirement already satisfied: pygments>=2.4.0 in /Users/colmb/Library/CloudStorage/OneDrive-Graphcore/code/debugging-tool/.venv/lib/python3.12/site-packages (from ipython<9->ipympl->nvis==0.1) (2.18.0)\n",
      "Requirement already satisfied: stack-data in /Users/colmb/Library/CloudStorage/OneDrive-Graphcore/code/debugging-tool/.venv/lib/python3.12/site-packages (from ipython<9->ipympl->nvis==0.1) (0.6.3)\n",
      "Requirement already satisfied: pexpect>4.3 in /Users/colmb/Library/CloudStorage/OneDrive-Graphcore/code/debugging-tool/.venv/lib/python3.12/site-packages (from ipython<9->ipympl->nvis==0.1) (4.9.0)\n",
      "Requirement already satisfied: six>=1.5 in /Users/colmb/Library/CloudStorage/OneDrive-Graphcore/code/debugging-tool/.venv/lib/python3.12/site-packages (from python-dateutil>=2.7->matplotlib->nvis==0.1) (1.16.0)\n",
      "Requirement already satisfied: MarkupSafe>=2.0 in /Users/colmb/Library/CloudStorage/OneDrive-Graphcore/code/debugging-tool/.venv/lib/python3.12/site-packages (from jinja2->torch->nvis==0.1) (2.1.5)\n",
      "Requirement already satisfied: mpmath<1.4.0,>=1.1.0 in /Users/colmb/Library/CloudStorage/OneDrive-Graphcore/code/debugging-tool/.venv/lib/python3.12/site-packages (from sympy->torch->nvis==0.1) (1.3.0)\n",
      "Requirement already satisfied: parso<0.9.0,>=0.8.3 in /Users/colmb/Library/CloudStorage/OneDrive-Graphcore/code/debugging-tool/.venv/lib/python3.12/site-packages (from jedi>=0.16->ipython<9->ipympl->nvis==0.1) (0.8.4)\n",
      "Requirement already satisfied: ptyprocess>=0.5 in /Users/colmb/Library/CloudStorage/OneDrive-Graphcore/code/debugging-tool/.venv/lib/python3.12/site-packages (from pexpect>4.3->ipython<9->ipympl->nvis==0.1) (0.7.0)\n",
      "Requirement already satisfied: wcwidth in /Users/colmb/Library/CloudStorage/OneDrive-Graphcore/code/debugging-tool/.venv/lib/python3.12/site-packages (from prompt-toolkit<3.1.0,>=3.0.41->ipython<9->ipympl->nvis==0.1) (0.2.13)\n",
      "Requirement already satisfied: executing>=1.2.0 in /Users/colmb/Library/CloudStorage/OneDrive-Graphcore/code/debugging-tool/.venv/lib/python3.12/site-packages (from stack-data->ipython<9->ipympl->nvis==0.1) (2.0.1)\n",
      "Requirement already satisfied: asttokens>=2.1.0 in /Users/colmb/Library/CloudStorage/OneDrive-Graphcore/code/debugging-tool/.venv/lib/python3.12/site-packages (from stack-data->ipython<9->ipympl->nvis==0.1) (2.4.1)\n",
      "Requirement already satisfied: pure-eval in /Users/colmb/Library/CloudStorage/OneDrive-Graphcore/code/debugging-tool/.venv/lib/python3.12/site-packages (from stack-data->ipython<9->ipympl->nvis==0.1) (0.2.2)\n",
      "Building wheels for collected packages: nvis\n",
      "  Building wheel for nvis (pyproject.toml) ... \u001b[?25ldone\n",
      "\u001b[?25h  Created wheel for nvis: filename=nvis-0.1-py3-none-any.whl size=34041 sha256=1bed88862a4b9019607826b05dbde93a717e71fdbcee5fb64fa2f87331707b9f\n",
      "  Stored in directory: /Users/colmb/Library/Caches/pip/wheels/a5/df/dc/5259f835417f3a97f1653a062131bd69e67749ca4095ea03fc\n",
      "Successfully built nvis\n",
      "Installing collected packages: nvis\n",
      "Successfully installed nvis-0.1\n",
      "\n",
      "\u001b[1m[\u001b[0m\u001b[34;49mnotice\u001b[0m\u001b[1;39;49m]\u001b[0m\u001b[39;49m A new release of pip is available: \u001b[0m\u001b[31;49m24.0\u001b[0m\u001b[39;49m -> \u001b[0m\u001b[32;49m24.1.2\u001b[0m\n",
      "\u001b[1m[\u001b[0m\u001b[34;49mnotice\u001b[0m\u001b[1;39;49m]\u001b[0m\u001b[39;49m To update, run: \u001b[0m\u001b[32;49mpip install --upgrade pip\u001b[0m\n"
     ]
    }
   ],
   "source": [
    "!pip install '/Users/colmb/Library/CloudStorage/OneDrive-Graphcore/code/debugging-tool/'"
   ]
  },
  {
   "cell_type": "code",
   "execution_count": 3,
   "metadata": {},
   "outputs": [
    {
     "data": {
      "application/vnd.jupyter.widget-view+json": {
       "model_id": "6465b9a8c65d47869d3b592bee60fd11",
       "version_major": 2,
       "version_minor": 0
      },
      "text/plain": [
       "Output(layout=Layout(width='100%'), outputs=({'output_type': 'display_data', 'data': {'text/plain': \"HBox(chil…"
      ]
     },
     "metadata": {},
     "output_type": "display_data"
    },
    {
     "data": {
      "application/vnd.jupyter.widget-view+json": {
       "model_id": "6f1e792b4bfa4a58bd0de37bfce0f0dc",
       "version_major": 2,
       "version_minor": 0
      },
      "text/plain": [
       "Output(layout=Layout(overflow='scroll hidden', width='1000px'), outputs=({'output_type': 'display_data', 'data…"
      ]
     },
     "metadata": {},
     "output_type": "display_data"
    }
   ],
   "source": [
    "\n",
    "\n",
    "# import pandas as pd\n",
    "from nvis import vis\n",
    "from nvis.log.common import read_pickle, TensorType\n",
    "import re\n",
    "import pandas as pd\n",
    "df = read_pickle('../test-data/new-df.pkl')\n",
    "\n",
    "\n",
    "\n",
    "\n",
    "vis.interactive(\n",
    "    f= vis.scalar_line,\n",
    "    width=1000,\n",
    "    df=df,\n",
    "    tt=TensorType.Activation,\n",
    "    layer='output',\n",
    "    col_wrap = 3,\n",
    "    scalar_metric=['rm2','min_abs']\n",
    ")\n",
    "\n"
   ]
  },
  {
   "cell_type": "code",
   "execution_count": null,
   "metadata": {},
   "outputs": [],
   "source": []
  },
  {
   "cell_type": "code",
   "execution_count": 2,
   "metadata": {},
   "outputs": [
    {
     "name": "stdout",
     "output_type": "stream",
     "text": [
      "appnope==0.1.4\n",
      "asttokens==2.4.1\n",
      "comm==0.2.2\n",
      "contourpy==1.2.1\n",
      "cycler==0.12.1\n",
      "debugpy==1.8.2\n",
      "decorator==5.1.1\n",
      "executing==2.0.1\n",
      "filelock==3.15.4\n",
      "fonttools==4.53.0\n",
      "fsspec==2024.6.1\n",
      "iniconfig==2.0.0\n",
      "install==1.3.5\n",
      "ipykernel==6.29.5\n",
      "ipympl==0.9.4\n",
      "ipython==8.26.0\n",
      "ipython-genutils==0.2.0\n",
      "ipywidgets==8.1.3\n",
      "jedi==0.19.1\n",
      "Jinja2==3.1.4\n",
      "jupyter_client==8.6.2\n",
      "jupyter_core==5.7.2\n",
      "jupyterlab_widgets==3.0.11\n",
      "kiwisolver==1.4.5\n",
      "MarkupSafe==2.1.5\n",
      "matplotlib==3.9.0\n",
      "matplotlib-inline==0.1.7\n",
      "ml-dtypes==0.4.0\n",
      "mpmath==1.3.0\n",
      "nest-asyncio==1.6.0\n",
      "networkx==3.3\n",
      "numpy==1.26.4\n",
      "packaging==24.1\n",
      "pandas==2.2.2\n",
      "parso==0.8.4\n",
      "pexpect==4.9.0\n",
      "pillow==10.4.0\n",
      "platformdirs==4.2.2\n",
      "pluggy==1.5.0\n",
      "prompt_toolkit==3.0.47\n",
      "psutil==6.0.0\n",
      "ptyprocess==0.7.0\n",
      "pure-eval==0.2.2\n",
      "Pygments==2.18.0\n",
      "pyparsing==3.1.2\n",
      "pytest==8.2.2\n",
      "python-dateutil==2.9.0.post0\n",
      "pytz==2024.1\n",
      "pyzmq==26.0.3\n",
      "seaborn==0.13.2\n",
      "six==1.16.0\n",
      "stack-data==0.6.3\n",
      "sympy==1.12.1\n",
      "torch==2.2.2\n",
      "tornado==6.4.1\n",
      "traitlets==5.14.3\n",
      "typing_extensions==4.12.2\n",
      "tzdata==2024.1\n",
      "wcwidth==0.2.13\n",
      "widgetsnbextension==4.0.11\n"
     ]
    }
   ],
   "source": [
    "!pip freeze"
   ]
  },
  {
   "cell_type": "code",
   "execution_count": null,
   "metadata": {},
   "outputs": [],
   "source": []
  }
 ],
 "metadata": {
  "kernelspec": {
   "display_name": ".venv",
   "language": "python",
   "name": "python3"
  },
  "language_info": {
   "codemirror_mode": {
    "name": "ipython",
    "version": 3
   },
   "file_extension": ".py",
   "mimetype": "text/x-python",
   "name": "python",
   "nbconvert_exporter": "python",
   "pygments_lexer": "ipython3",
   "version": "3.12.4"
  }
 },
 "nbformat": 4,
 "nbformat_minor": 2
}
