{
 "cells": [
  {
   "cell_type": "code",
   "execution_count": 1,
   "metadata": {},
   "outputs": [
    {
     "data": {
      "application/vnd.jupyter.widget-view+json": {
       "model_id": "08060563d2fc4bf98720c886c7fd37ea",
       "version_major": 2,
       "version_minor": 0
      },
      "text/plain": [
       "Output(layout=Layout(width='100%'), outputs=({'output_type': 'display_data', 'data': {'text/plain': \"HBox(chil…"
      ]
     },
     "metadata": {},
     "output_type": "display_data"
    },
    {
     "data": {
      "application/vnd.jupyter.widget-view+json": {
       "model_id": "76ced37b41a54d44a1247418a2ffad74",
       "version_major": 2,
       "version_minor": 0
      },
      "text/plain": [
       "Output(layout=Layout(overflow='scroll hidden', width='1000px'), outputs=({'output_type': 'display_data', 'data…"
      ]
     },
     "metadata": {},
     "output_type": "display_data"
    }
   ],
   "source": [
    "import os\n",
    "import sys\n",
    "import matplotlib.pyplot as plt\n",
    "# add local lib to sys path for relative import\n",
    "module_path = os.path.abspath(os.path.join('..'))\n",
    "if module_path not in sys.path:\n",
    "    sys.path.append(module_path)\n",
    "\n",
    "# import pandas as pd\n",
    "from nvis import vis\n",
    "from nvis.log.common import read_pickle, TensorType\n",
    "import re\n",
    "import pandas as pd\n",
    "df = read_pickle('../test-data/numerics_df_v3.pkl')\n",
    "\n",
    "\n",
    "\n",
    "vis.interactive(\n",
    "    f= vis.scalar_line,\n",
    "    width=1000,\n",
    "    df=df,\n",
    "    tt=TensorType.Activation,\n",
    "    layer='output',\n",
    "    col_wrap = 3,\n",
    "    scalar_metric=['rm2','min_abs']\n",
    ")\n",
    "\n"
   ]
  }
 ],
 "metadata": {
  "kernelspec": {
   "display_name": ".venv",
   "language": "python",
   "name": "python3"
  },
  "language_info": {
   "codemirror_mode": {
    "name": "ipython",
    "version": 3
   },
   "file_extension": ".py",
   "mimetype": "text/x-python",
   "name": "python",
   "nbconvert_exporter": "python",
   "pygments_lexer": "ipython3",
   "version": "3.12.4"
  }
 },
 "nbformat": 4,
 "nbformat_minor": 2
}
