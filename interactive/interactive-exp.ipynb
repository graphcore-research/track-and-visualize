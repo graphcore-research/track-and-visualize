{
 "cells": [
  {
   "cell_type": "code",
   "execution_count": 4,
   "metadata": {},
   "outputs": [
    {
     "data": {
      "application/vnd.jupyter.widget-view+json": {
       "model_id": "5df5b3bc7d26409fa22b32f05837f7be",
       "version_major": 2,
       "version_minor": 0
      },
      "text/plain": [
       "Output(layout=Layout(width='100%'), outputs=({'output_type': 'display_data', 'data': {'text/plain': \"HBox(chil…"
      ]
     },
     "metadata": {},
     "output_type": "display_data"
    },
    {
     "data": {
      "application/vnd.jupyter.widget-view+json": {
       "model_id": "674ecadb777f453e91c5c7f74f99c01b",
       "version_major": 2,
       "version_minor": 0
      },
      "text/plain": [
       "Output(layout=Layout(overflow='scroll hidden', width='1000px'), outputs=({'output_type': 'display_data', 'data…"
      ]
     },
     "metadata": {},
     "output_type": "display_data"
    }
   ],
   "source": [
    "import os\n",
    "import sys\n",
    "import matplotlib.pyplot as plt\n",
    "# add local lib to sys path for relative import\n",
    "module_path = os.path.abspath(os.path.join('..'))\n",
    "if module_path not in sys.path:\n",
    "    sys.path.append(module_path)\n",
    "\n",
    "# import pandas as pd\n",
    "from src import vis\n",
    "from src.log.common import read_pickle, TensorType\n",
    "import re\n",
    "import pandas as pd\n",
    "df = read_pickle('../test-data/numerics_df_v3.pkl')\n",
    "\n",
    "\n",
    "\n",
    "vis.interact_vis(\n",
    "    f= vis.scalar_line,\n",
    "    width=1000,\n",
    "    df=df,\n",
    "    tt=TensorType.Activation,\n",
    "    layer='output',\n",
    "    col_wrap = 3,\n",
    "    scalar_metric=['rm2','min_abs']\n",
    ")\n",
    "\n"
   ]
  }
 ],
 "metadata": {
  "kernelspec": {
   "display_name": ".venv",
   "language": "python",
   "name": "python3"
  },
  "language_info": {
   "codemirror_mode": {
    "name": "ipython",
    "version": 3
   },
   "file_extension": ".py",
   "mimetype": "text/x-python",
   "name": "python",
   "nbconvert_exporter": "python",
   "pygments_lexer": "ipython3",
   "version": "3.12.4"
  }
 },
 "nbformat": 4,
 "nbformat_minor": 2
}
