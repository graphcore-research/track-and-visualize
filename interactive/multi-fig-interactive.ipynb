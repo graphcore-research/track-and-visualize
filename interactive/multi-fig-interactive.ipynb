{
 "cells": [
  {
   "cell_type": "code",
   "execution_count": 1,
   "metadata": {},
   "outputs": [],
   "source": [
    "import ipywidgets as widgets\n",
    "import matplotlib\n",
    "\n",
    "import matplotlib.pyplot as plt\n",
    "import numpy as np"
   ]
  },
  {
   "cell_type": "code",
   "execution_count": 2,
   "metadata": {},
   "outputs": [
    {
     "data": {
      "application/vnd.jupyter.widget-view+json": {
       "model_id": "a9ea0f6429db47fe91efb729962973b4",
       "version_major": 2,
       "version_minor": 0
      },
      "text/plain": [
       "HBox(children=(Output(outputs=({'output_type': 'display_data', 'data': {'text/plain': \"Canvas(toolbar=Toolbar(…"
      ]
     },
     "metadata": {},
     "output_type": "display_data"
    }
   ],
   "source": [
    "plt.switch_backend('ipympl')\n",
    "\n",
    "fig1,ax1 = plt.subplots(figsize=(3,2))\n",
    "fig2,ax2 = plt.subplots(figsize=(3,2))\n",
    "\n",
    "ax1.plot(np.random.random((20,20)))\n",
    "ax2.plot(np.random.random((20,20)))\n",
    "\n",
    "out1 = widgets.Output()\n",
    "out1.append_display_data(fig1.canvas)\n",
    "\n",
    "out2 = widgets.Output()\n",
    "out2.append_display_data(fig2.canvas)\n",
    "\n",
    "hbox = widgets.HBox(children=[out1,out2])\n",
    "\n",
    "display(hbox)"
   ]
  },
  {
   "cell_type": "code",
   "execution_count": null,
   "metadata": {},
   "outputs": [],
   "source": []
  }
 ],
 "metadata": {
  "kernelspec": {
   "display_name": ".venv",
   "language": "python",
   "name": "python3"
  },
  "language_info": {
   "codemirror_mode": {
    "name": "ipython",
    "version": 3
   },
   "file_extension": ".py",
   "mimetype": "text/x-python",
   "name": "python",
   "nbconvert_exporter": "python",
   "pygments_lexer": "ipython3",
   "version": "3.12.4"
  }
 },
 "nbformat": 4,
 "nbformat_minor": 2
}
