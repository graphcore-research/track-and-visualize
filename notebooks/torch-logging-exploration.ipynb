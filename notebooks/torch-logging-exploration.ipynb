{
 "cells": [
  {
   "cell_type": "code",
   "execution_count": 5,
   "metadata": {},
   "outputs": [],
   "source": [
    "import os\n",
    "import sys\n",
    "# add local lib to sys path for relative import\n",
    "module_path = os.path.abspath(os.path.join('..'))\n",
    "if module_path not in sys.path:\n",
    "    sys.path.append(module_path)"
   ]
  },
  {
   "cell_type": "code",
   "execution_count": 9,
   "metadata": {},
   "outputs": [],
   "source": [
    "# import tt\n",
    "from src.log import torch as tt\n",
    "import torch\n",
    "import torch.amp\n",
    "import torch.nn as nn\n",
    "import torch.nn.functional as F"
   ]
  },
  {
   "cell_type": "code",
   "execution_count": 11,
   "metadata": {},
   "outputs": [],
   "source": [
    "class Net(nn.Module):\n",
    "    def __init__(self):\n",
    "        super(Net, self).__init__()\n",
    "        # 1 input image channel, 6 output channels, 5x5 square convolution\n",
    "        # kernel\n",
    "        # self.conv1 = nn.Conv2d(1, 6, 5)\n",
    "        # self.conv2 = nn.Conv2d(6, 16, 5)\n",
    "        # an affine operation: y = Wx + b\n",
    "        self.fc1 = nn.Linear(240, 120,dtype=torch.bfloat16)\n",
    "        self.fc2 = nn.Linear(120, 84,dtype=torch.float32)\n",
    "        self.fc3 = nn.Linear(84, 10,dtype=torch.bfloat16)\n",
    "        self.relu = nn.functional.relu\n",
    "\n",
    "        # for name, layer in self._modules.items():\n",
    "        #     print(name)\n",
    "            # layer.register_forward_hook(lambda x,y,z: print(z,'\\n' + '-'*50 + '\\n'))\n",
    "\n",
    "    def forward(self, x):\n",
    "        # Max pooling over a (2, 2) window\n",
    "\n",
    "        # If the size is a square you can only specify a single number\n",
    "        x = self.relu(self.fc1(x.bfloat16()))\n",
    "        x = self.relu(self.fc2(x.float()))\n",
    "        # x = self.relu(self.fc2(x))\n",
    "        # x = self.relu(self.fc3(x))\n",
    "        return x\n",
    "\n",
    "    # def num_flat_features(self, x):\n",
    "    #     size = x.size()[1:]  # all dimensions except the batch dimension\n",
    "    #     num_features = 1\n",
    "    #     for s in size:\n",
    "    #         num_features *= s\n",
    "    #     return num_features\n",
    "\n",
    "\n",
    "net = Net()\n",
    "# print(net)\n",
    "Xi = torch.rand(1,240)\n",
    "# print(Xi,\"\\n\")\n",
    "# net(Xi)"
   ]
  },
  {
   "cell_type": "code",
   "execution_count": 14,
   "metadata": {},
   "outputs": [
    {
     "ename": "AttributeError",
     "evalue": "'Parameter' object has no attribute '__annotations__'",
     "output_type": "error",
     "traceback": [
      "\u001b[0;31m---------------------------------------------------------------------------\u001b[0m",
      "\u001b[0;31mAttributeError\u001b[0m                            Traceback (most recent call last)",
      "Cell \u001b[0;32mIn[14], line 2\u001b[0m\n\u001b[1;32m      1\u001b[0m \u001b[38;5;28;01mfor\u001b[39;00m p \u001b[38;5;129;01min\u001b[39;00m net\u001b[38;5;241m.\u001b[39mparameters():\n\u001b[0;32m----> 2\u001b[0m     \u001b[38;5;28mprint\u001b[39m(\u001b[43mp\u001b[49m\u001b[38;5;241;43m.\u001b[39;49m\u001b[38;5;18;43m__annotations__\u001b[39;49m)\n",
      "\u001b[0;31mAttributeError\u001b[0m: 'Parameter' object has no attribute '__annotations__'"
     ]
    }
   ],
   "source": [
    "for p in net.parameters():\n",
    "    print(p.__annotations__)"
   ]
  }
 ],
 "metadata": {
  "kernelspec": {
   "display_name": ".venv",
   "language": "python",
   "name": "python3"
  },
  "language_info": {
   "codemirror_mode": {
    "name": "ipython",
    "version": 3
   },
   "file_extension": ".py",
   "mimetype": "text/x-python",
   "name": "python",
   "nbconvert_exporter": "python",
   "pygments_lexer": "ipython3",
   "version": "3.12.4"
  }
 },
 "nbformat": 4,
 "nbformat_minor": 2
}
